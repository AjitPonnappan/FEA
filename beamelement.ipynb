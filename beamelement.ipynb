{
 "cells": [
  {
   "cell_type": "code",
   "execution_count": 2,
   "metadata": {},
   "outputs": [],
   "source": [
    "import numpy\n",
    "from matplotlib import pyplot"
   ]
  },
  {
   "cell_type": "code",
   "execution_count": 1,
   "metadata": {},
   "outputs": [],
   "source": [
    "#problem parameters in N and mm\n",
    "E = 210e6\n",
    "P = 20e3\n",
    "#L = 2e3\n",
    "I = 60e-6\n",
    "n = 3\n",
    "dl = 2"
   ]
  },
  {
   "cell_type": "code",
   "execution_count": 3,
   "metadata": {},
   "outputs": [],
   "source": [
    "def elemstiff(E,I,L):    \n",
    "#     Bmat = numpy.matrix([[7,1,-8],[1,7,-8],[-8,-8,16]])\n",
    "#     k = E*A/(3*L) * Bmat\n",
    "#     return k\n",
    "    Bmat = [[12,6*L,-12,6*L],[6*L,4*L*L,-6*L,2*L*L],[-12,-6*L,12,-6*L],[6*L,2*L*L,-6*L,4*L*L]]\n",
    "    k = []\n",
    "    for i in range(len(Bmat)):\n",
    "        B = Bmat[i]\n",
    "        k_sub = []\n",
    "        for j in range(len(B)):\n",
    "            k_sub.append(Bmat[i][j] * E*I/L**3)\n",
    "        k.append(k_sub)\n",
    "    return k"
   ]
  },
  {
   "cell_type": "code",
   "execution_count": 4,
   "metadata": {},
   "outputs": [
    {
     "data": {
      "text/plain": [
       "[[[18900.0, 18900.0, -18900.0, 18900.0],\n",
       "  [18900.0, 25200.0, -18900.0, 12600.0],\n",
       "  [-18900.0, -18900.0, 18900.0, -18900.0],\n",
       "  [18900.0, 12600.0, -18900.0, 25200.0]],\n",
       " [[18900.0, 18900.0, -18900.0, 18900.0],\n",
       "  [18900.0, 25200.0, -18900.0, 12600.0],\n",
       "  [-18900.0, -18900.0, 18900.0, -18900.0],\n",
       "  [18900.0, 12600.0, -18900.0, 25200.0]]]"
      ]
     },
     "execution_count": 4,
     "metadata": {},
     "output_type": "execute_result"
    }
   ],
   "source": [
    "k = []\n",
    "for i in range(n-1):\n",
    "    k.append(elemstiff(E,I,dl))\n",
    "k"
   ]
  },
  {
   "cell_type": "code",
   "execution_count": 5,
   "metadata": {},
   "outputs": [
    {
     "data": {
      "text/plain": [
       "array([[ 18900.,  18900., -18900.,  18900.,      0.,      0.],\n",
       "       [ 18900.,  25200., -18900.,  12600.,      0.,      0.],\n",
       "       [-18900., -18900.,  37800.,      0., -18900.,  18900.],\n",
       "       [ 18900.,  12600.,      0.,  50400., -18900.,  12600.],\n",
       "       [     0.,      0., -18900., -18900.,  18900., -18900.],\n",
       "       [     0.,      0.,  18900.,  12600., -18900.,  25200.]])"
      ]
     },
     "execution_count": 5,
     "metadata": {},
     "output_type": "execute_result"
    }
   ],
   "source": [
    "K = numpy.zeros(shape=(2*n,2*n))    #multiplied by 2 because 2 degrees of freedom per node\n",
    "x = 0\n",
    "for X in range (0,n,2):           #X is to get the location in the global matrix to add the element matrix\n",
    "    c = 0\n",
    "    for C in range (X,X+4):\n",
    "        r = 0\n",
    "        for R in range (X,X+4):\n",
    "            K[C][R] = K[C][R] + k[x][r][c]\n",
    "            r = r + 1\n",
    "        c = c + 1\n",
    "    x = x + 1\n",
    "K"
   ]
  },
  {
   "cell_type": "code",
   "execution_count": 25,
   "metadata": {},
   "outputs": [
    {
     "data": {
      "text/plain": [
       "[-20000.0]"
      ]
     },
     "execution_count": 25,
     "metadata": {},
     "output_type": "execute_result"
    }
   ],
   "source": [
    "F = [[0],[0],[-P],[0],[0],[0]]\n",
    "F[2]"
   ]
  },
  {
   "cell_type": "code",
   "execution_count": 23,
   "metadata": {},
   "outputs": [
    {
     "data": {
      "text/plain": [
       "array([[37800.,     0., 18900.],\n",
       "       [    0., 50400., 12600.],\n",
       "       [18900., 12600., 25200.]])"
      ]
     },
     "execution_count": 23,
     "metadata": {},
     "output_type": "execute_result"
    }
   ],
   "source": [
    "#elimination\n",
    "#Displacement for rows 1,2 and 5 should be eliminated\n",
    "\n",
    "Kelim =K[numpy.ix_([2,3,5],[2,3,5])]\n",
    "#^from row index 2,3,5 take element index 2,3,5\n",
    "Kelim"
   ]
  },
  {
   "cell_type": "code",
   "execution_count": 30,
   "metadata": {},
   "outputs": [
    {
     "data": {
      "text/plain": [
       "matrix([[-20000.],\n",
       "        [     0.],\n",
       "        [     0.]])"
      ]
     },
     "execution_count": 30,
     "metadata": {},
     "output_type": "execute_result"
    }
   ],
   "source": [
    "f = numpy.matrix([F[2],F[3],F[5]])\n",
    "f"
   ]
  },
  {
   "cell_type": "code",
   "execution_count": 31,
   "metadata": {},
   "outputs": [
    {
     "data": {
      "text/plain": [
       "matrix([[-0.92592593],\n",
       "        [-0.1984127 ],\n",
       "        [ 0.79365079]])"
      ]
     },
     "execution_count": 31,
     "metadata": {},
     "output_type": "execute_result"
    }
   ],
   "source": [
    "Kinv = numpy.linalg.inv(numpy.matrix(Kelim))\n",
    "U = Kinv*f\n",
    "U"
   ]
  },
  {
   "cell_type": "code",
   "execution_count": 46,
   "metadata": {},
   "outputs": [
    {
     "ename": "IndexError",
     "evalue": "index 3 is out of bounds for axis 0 with size 3",
     "output_type": "error",
     "traceback": [
      "\u001b[1;31m---------------------------------------------------------------------------\u001b[0m",
      "\u001b[1;31mIndexError\u001b[0m                                Traceback (most recent call last)",
      "\u001b[1;32m<ipython-input-46-e1cda0a6866d>\u001b[0m in \u001b[0;36m<module>\u001b[1;34m\u001b[0m\n\u001b[0;32m      3\u001b[0m \u001b[0mni\u001b[0m \u001b[1;33m=\u001b[0m \u001b[1;36m0\u001b[0m\u001b[1;33m\u001b[0m\u001b[1;33m\u001b[0m\u001b[0m\n\u001b[0;32m      4\u001b[0m \u001b[1;32mfor\u001b[0m \u001b[0mi\u001b[0m \u001b[1;32min\u001b[0m \u001b[0mnocons\u001b[0m\u001b[1;33m:\u001b[0m\u001b[1;33m\u001b[0m\u001b[1;33m\u001b[0m\u001b[0m\n\u001b[1;32m----> 5\u001b[1;33m     \u001b[0mu\u001b[0m\u001b[1;33m[\u001b[0m\u001b[0mi\u001b[0m\u001b[1;33m]\u001b[0m \u001b[1;33m=\u001b[0m \u001b[0mU\u001b[0m\u001b[1;33m[\u001b[0m\u001b[0mn\u001b[0m\u001b[1;33m]\u001b[0m\u001b[1;33m\u001b[0m\u001b[1;33m\u001b[0m\u001b[0m\n\u001b[0m\u001b[0;32m      6\u001b[0m     \u001b[0mni\u001b[0m\u001b[1;33m=\u001b[0m\u001b[0mni\u001b[0m\u001b[1;33m+\u001b[0m\u001b[1;36m1\u001b[0m\u001b[1;33m\u001b[0m\u001b[1;33m\u001b[0m\u001b[0m\n\u001b[0;32m      7\u001b[0m \u001b[0mu\u001b[0m\u001b[1;33m\u001b[0m\u001b[1;33m\u001b[0m\u001b[0m\n",
      "\u001b[1;32m~\\Anaconda3\\lib\\site-packages\\numpy\\matrixlib\\defmatrix.py\u001b[0m in \u001b[0;36m__getitem__\u001b[1;34m(self, index)\u001b[0m\n\u001b[0;32m    193\u001b[0m \u001b[1;33m\u001b[0m\u001b[0m\n\u001b[0;32m    194\u001b[0m         \u001b[1;32mtry\u001b[0m\u001b[1;33m:\u001b[0m\u001b[1;33m\u001b[0m\u001b[1;33m\u001b[0m\u001b[0m\n\u001b[1;32m--> 195\u001b[1;33m             \u001b[0mout\u001b[0m \u001b[1;33m=\u001b[0m \u001b[0mN\u001b[0m\u001b[1;33m.\u001b[0m\u001b[0mndarray\u001b[0m\u001b[1;33m.\u001b[0m\u001b[0m__getitem__\u001b[0m\u001b[1;33m(\u001b[0m\u001b[0mself\u001b[0m\u001b[1;33m,\u001b[0m \u001b[0mindex\u001b[0m\u001b[1;33m)\u001b[0m\u001b[1;33m\u001b[0m\u001b[1;33m\u001b[0m\u001b[0m\n\u001b[0m\u001b[0;32m    196\u001b[0m         \u001b[1;32mfinally\u001b[0m\u001b[1;33m:\u001b[0m\u001b[1;33m\u001b[0m\u001b[1;33m\u001b[0m\u001b[0m\n\u001b[0;32m    197\u001b[0m             \u001b[0mself\u001b[0m\u001b[1;33m.\u001b[0m\u001b[0m_getitem\u001b[0m \u001b[1;33m=\u001b[0m \u001b[1;32mFalse\u001b[0m\u001b[1;33m\u001b[0m\u001b[1;33m\u001b[0m\u001b[0m\n",
      "\u001b[1;31mIndexError\u001b[0m: index 3 is out of bounds for axis 0 with size 3"
     ]
    }
   ],
   "source": [
    "u = numpy.zeros((6,1))\n",
    "nocons = [2,3,5]\n",
    "ni = 0\n",
    "for i in nocons:\n",
    "    u[i] = U[n]\n",
    "    ni=ni+1\n",
    "u\n",
    "#displacements in mm"
   ]
  },
  {
   "cell_type": "code",
   "execution_count": 41,
   "metadata": {},
   "outputs": [
    {
     "data": {
      "text/plain": [
       "matrix([[ 13750.],\n",
       "        [ 15000.],\n",
       "        [-20000.],\n",
       "        [     0.],\n",
       "        [  6250.],\n",
       "        [     0.]])"
      ]
     },
     "execution_count": 41,
     "metadata": {},
     "output_type": "execute_result"
    }
   ],
   "source": [
    "F = K*numpy.matrix(u)\n",
    "F\n",
    "#forces in N"
   ]
  },
  {
   "cell_type": "code",
   "execution_count": 45,
   "metadata": {},
   "outputs": [
    {
     "data": {
      "text/plain": [
       "array([], shape=(0, 1), dtype=float64)"
      ]
     },
     "execution_count": 45,
     "metadata": {},
     "output_type": "execute_result"
    }
   ],
   "source": [
    "for i in range (0,2*n,2):\n",
    "    elemU[] = numpy.array(U[i:i+4])\n"
   ]
  },
  {
   "cell_type": "code",
   "execution_count": null,
   "metadata": {},
   "outputs": [],
   "source": []
  }
 ],
 "metadata": {
  "kernelspec": {
   "display_name": "Python 3",
   "language": "python",
   "name": "python3"
  },
  "language_info": {
   "codemirror_mode": {
    "name": "ipython",
    "version": 3
   },
   "file_extension": ".py",
   "mimetype": "text/x-python",
   "name": "python",
   "nbconvert_exporter": "python",
   "pygments_lexer": "ipython3",
   "version": "3.7.4"
  }
 },
 "nbformat": 4,
 "nbformat_minor": 2
}
