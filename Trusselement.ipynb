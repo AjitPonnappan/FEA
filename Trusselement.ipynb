{
 "cells": [
  {
   "cell_type": "code",
   "execution_count": 1,
   "metadata": {},
   "outputs": [],
   "source": [
    "import numpy\n",
    "from matplotlib import pyplot\n",
    "import math"
   ]
  },
  {
   "cell_type": "code",
   "execution_count": 2,
   "metadata": {},
   "outputs": [],
   "source": [
    "def elemlength(n1,n2):\n",
    "    l = numpy.sqrt((n2[0]-n1[0])**2 + (n2[1]-n1[1])**2)\n",
    "    return l"
   ]
  },
  {
   "cell_type": "code",
   "execution_count": 3,
   "metadata": {},
   "outputs": [],
   "source": [
    "def angle(n1,n2):\n",
    "    t = math.atan((n2[1]-n1[1])/(n2[0]-n1[0])) * 180 / math.pi\n",
    "    if(t<0):\n",
    "        t = 180 + t\n",
    "    return t"
   ]
  },
  {
   "cell_type": "code",
   "execution_count": 4,
   "metadata": {},
   "outputs": [],
   "source": [
    "def elemstiff(E,A,L, theta):\n",
    "#PlaneTrussElementStiffness This function returns the element\n",
    "#stiffness matrix for a plane truss\n",
    "#element with modulus of elasticity E,\n",
    "#cross-sectional area A, length L, and\n",
    "#angle theta (in degrees).\n",
    "#The size of the element stiffness\n",
    "#matrix is 4 x 4.\n",
    "    x = theta*math.pi/180\n",
    "    C = math.cos(x)\n",
    "    S = math.sin(x)\n",
    "    y = [[C*C, C*S, C*-C, C*-S], [C*S, S*S, C*-S, S*-S], [C*-C, C*-S, C*C, C*S], [C*-S, S*-S, C*S, S*S]]\n",
    "    k = E*A/L*numpy.array(y)\n",
    "    return k"
   ]
  },
  {
   "cell_type": "code",
   "execution_count": 5,
   "metadata": {},
   "outputs": [],
   "source": [
    "def Globalstiff(K,k,i,j):\n",
    "#PlaneTrussAssemble This function assembles the element stiffness matrices into a global stiffness matrix\n",
    "    x = [i,j]\n",
    "    y = [i,j]\n",
    "    c = 0\n",
    "    for x1 in x:\n",
    "        c0 = 0\n",
    "        for y1 in y:\n",
    "            c1 = c\n",
    "            for x0 in range (x1*2,x1*2+2):\n",
    "                c2 = c0\n",
    "                for y0 in range (y1*2,y1*2+2):\n",
    "                    K[x0][y0] = K[x0][y0] + k[c1][c2]\n",
    "                    c2=c2+1\n",
    "                c1=c1+1\n",
    "            c0=c0+2\n",
    "        c=c+2\n",
    "\n",
    "# the element stiffness matrix is grouped into 4 element subsquares \n",
    "# which are then placed in the corresponding locations in the global stiffness matrix based on nodal connectivity\n",
    "# c1 and c2 represent the iteration indices for the subsquares, c and c0 represent theindices to iterate though the sub squares.\n",
    "# similarly x0 and y0 are the iteration indices where the subsquares will be added in the global stiffness matrix\n",
    "# x1 and y1 implement nodal connectivity into the assembly"
   ]
  },
  {
   "cell_type": "code",
   "execution_count": 7,
   "metadata": {},
   "outputs": [
    {
     "name": "stdout",
     "output_type": "stream",
     "text": [
      "[[ 5250.     0. -5250.     0.     0.     0.]\n",
      " [    0.     0.     0.     0.     0.     0.]\n",
      " [-5250.     0.  5250.     0.     0.     0.]\n",
      " [    0.     0.     0.     0.     0.     0.]\n",
      " [    0.     0.     0.     0.     0.     0.]\n",
      " [    0.     0.     0.     0.     0.     0.]]\n",
      "[[ 7042.10832627  2688.1624894  -5250.             0.\n",
      "  -1792.10832627 -2688.1624894 ]\n",
      " [ 2688.1624894   4032.2437341      0.             0.\n",
      "  -2688.1624894  -4032.2437341 ]\n",
      " [-5250.             0.          5250.             0.\n",
      "      0.             0.        ]\n",
      " [    0.             0.             0.             0.\n",
      "      0.             0.        ]\n",
      " [-1792.10832627 -2688.1624894      0.             0.\n",
      "   1792.10832627  2688.1624894 ]\n",
      " [-2688.1624894  -4032.2437341      0.             0.\n",
      "   2688.1624894   4032.2437341 ]]\n",
      "[[ 7.04210833e+03  2.68816249e+03 -5.25000000e+03  0.00000000e+00\n",
      "  -1.79210833e+03 -2.68816249e+03]\n",
      " [ 2.68816249e+03  4.03224373e+03  0.00000000e+00  0.00000000e+00\n",
      "  -2.68816249e+03 -4.03224373e+03]\n",
      " [-5.25000000e+03  0.00000000e+00  7.04210833e+03 -2.68816249e+03\n",
      "  -1.79210833e+03  2.68816249e+03]\n",
      " [ 0.00000000e+00  0.00000000e+00 -2.68816249e+03  4.03224373e+03\n",
      "   2.68816249e+03 -4.03224373e+03]\n",
      " [-1.79210833e+03 -2.68816249e+03 -1.79210833e+03  2.68816249e+03\n",
      "   3.58421665e+03  4.54747351e-13]\n",
      " [-2.68816249e+03 -4.03224373e+03  2.68816249e+03 -4.03224373e+03\n",
      "   4.54747351e-13  8.06448747e+03]]\n"
     ]
    }
   ],
   "source": [
    "E = 210e6\n",
    "P = 20e3\n",
    "A = 1e-4\n",
    "L =[]\n",
    "T =[]\n",
    "k =[]\n",
    "K = numpy.zeros(shape=(2*3,2*3))\n",
    "nodes = [[0,0],[4,0],[2,3]]     #Node x and y coordinates\n",
    "elem = [[0,1],[0,2],[2,1]]      #Node numbers bw which elements are created\n",
    "Forces = [[0,0],[0,0],[5,-10]]\n",
    "for i,e in enumerate(elem):\n",
    "    L.append(elemlength(nodes[e[0]],nodes[e[1]]))\n",
    "    T.append(angle(nodes[e[0]],nodes[e[1]]))\n",
    "    k.append(elemstiff(E,A,L[i],T[i]))\n",
    "    Globalstiff(K,k[i],e[0],e[1])\n",
    "    print(K)"
   ]
  },
  {
   "cell_type": "code",
   "execution_count": 8,
   "metadata": {},
   "outputs": [
    {
     "data": {
      "text/plain": [
       "[array([[ 5250.,     0., -5250.,    -0.],\n",
       "        [    0.,     0.,    -0.,    -0.],\n",
       "        [-5250.,    -0.,  5250.,     0.],\n",
       "        [   -0.,    -0.,     0.,     0.]]),\n",
       " array([[ 1792.10832627,  2688.1624894 , -1792.10832627, -2688.1624894 ],\n",
       "        [ 2688.1624894 ,  4032.2437341 , -2688.1624894 , -4032.2437341 ],\n",
       "        [-1792.10832627, -2688.1624894 ,  1792.10832627,  2688.1624894 ],\n",
       "        [-2688.1624894 , -4032.2437341 ,  2688.1624894 ,  4032.2437341 ]]),\n",
       " array([[ 1792.10832627, -2688.1624894 , -1792.10832627,  2688.1624894 ],\n",
       "        [-2688.1624894 ,  4032.2437341 ,  2688.1624894 , -4032.2437341 ],\n",
       "        [-1792.10832627,  2688.1624894 ,  1792.10832627, -2688.1624894 ],\n",
       "        [ 2688.1624894 , -4032.2437341 , -2688.1624894 ,  4032.2437341 ]])]"
      ]
     },
     "execution_count": 8,
     "metadata": {},
     "output_type": "execute_result"
    }
   ],
   "source": [
    "k"
   ]
  },
  {
   "cell_type": "code",
   "execution_count": 56,
   "metadata": {},
   "outputs": [
    {
     "data": {
      "text/plain": [
       "[array([[ 5250.,     0., -5250.,    -0.],\n",
       "        [    0.,     0.,    -0.,    -0.],\n",
       "        [-5250.,    -0.,  5250.,     0.],\n",
       "        [   -0.,    -0.,     0.,     0.]]),\n",
       " array([[ 1792.10832627,  2688.1624894 , -1792.10832627, -2688.1624894 ],\n",
       "        [ 2688.1624894 ,  4032.2437341 , -2688.1624894 , -4032.2437341 ],\n",
       "        [-1792.10832627, -2688.1624894 ,  1792.10832627,  2688.1624894 ],\n",
       "        [-2688.1624894 , -4032.2437341 ,  2688.1624894 ,  4032.2437341 ]]),\n",
       " array([[ 1792.10832627, -2688.1624894 , -1792.10832627,  2688.1624894 ],\n",
       "        [-2688.1624894 ,  4032.2437341 ,  2688.1624894 , -4032.2437341 ],\n",
       "        [-1792.10832627,  2688.1624894 ,  1792.10832627, -2688.1624894 ],\n",
       "        [ 2688.1624894 , -4032.2437341 , -2688.1624894 ,  4032.2437341 ]])]"
      ]
     },
     "execution_count": 56,
     "metadata": {},
     "output_type": "execute_result"
    }
   ],
   "source": []
  },
  {
   "cell_type": "code",
   "execution_count": null,
   "metadata": {},
   "outputs": [],
   "source": []
  }
 ],
 "metadata": {
  "kernelspec": {
   "display_name": "Python 3",
   "language": "python",
   "name": "python3"
  },
  "language_info": {
   "codemirror_mode": {
    "name": "ipython",
    "version": 3
   },
   "file_extension": ".py",
   "mimetype": "text/x-python",
   "name": "python",
   "nbconvert_exporter": "python",
   "pygments_lexer": "ipython3",
   "version": "3.7.4"
  }
 },
 "nbformat": 4,
 "nbformat_minor": 2
}
