{
 "cells": [
  {
   "cell_type": "code",
   "execution_count": 2,
   "metadata": {},
   "outputs": [],
   "source": [
    "import sympy\n",
    "import numpy\n",
    "from matplotlib import pyplot"
   ]
  },
  {
   "cell_type": "code",
   "execution_count": 3,
   "metadata": {},
   "outputs": [
    {
     "data": {
      "text/plain": [
       "array([ 300.,  900., 1500., 2100., 2700.])"
      ]
     },
     "execution_count": 3,
     "metadata": {},
     "output_type": "execute_result"
    }
   ],
   "source": [
    "#problem parameters\n",
    "E = 210e3\n",
    "L = 3000        #length in mm\n",
    "n = 6           #no. of nodes\n",
    "dl = L/(n-1)    #element length\n",
    "nx = numpy.linspace(dl/2,L-(dl/2),n-1) #average of node coordinates\n",
    "nx"
   ]
  },
  {
   "cell_type": "code",
   "execution_count": 4,
   "metadata": {},
   "outputs": [
    {
     "data": {
      "text/plain": [
       "[3000.0, 5000.0, 7000.0, 9000.0, 11000.0]"
      ]
     },
     "execution_count": 4,
     "metadata": {},
     "output_type": "execute_result"
    }
   ],
   "source": [
    "from sympy.utilities.lambdify import lambdify\n",
    "x = sympy.symbols('x')\n",
    "A = 2000 + 10*x/3\n",
    "Afunc = lambdify((x),A)\n",
    "A = [Afunc(ix) for ix in nx]\n",
    "A"
   ]
  },
  {
   "cell_type": "code",
   "execution_count": 5,
   "metadata": {},
   "outputs": [],
   "source": [
    "def elemstiffness(E,A,L):\n",
    "    k = [[E*A/L, -E*A/L],[-E*A/L, E*A/L]]\n",
    "    return k"
   ]
  },
  {
   "cell_type": "code",
   "execution_count": 6,
   "metadata": {},
   "outputs": [
    {
     "data": {
      "text/plain": [
       "[[[1050000.0, -1050000.0], [-1050000.0, 1050000.0]],\n",
       " [[1750000.0, -1750000.0], [-1750000.0, 1750000.0]],\n",
       " [[2450000.0, -2450000.0], [-2450000.0, 2450000.0]],\n",
       " [[3150000.0, -3150000.0], [-3150000.0, 3150000.0]],\n",
       " [[3850000.0, -3850000.0], [-3850000.0, 3850000.0]]]"
      ]
     },
     "execution_count": 6,
     "metadata": {},
     "output_type": "execute_result"
    }
   ],
   "source": [
    "k = []\n",
    "for i in range(n-1):\n",
    "    k.append(elemstiffness(E,A[i],dl))\n",
    "k"
   ]
  },
  {
   "cell_type": "code",
   "execution_count": 7,
   "metadata": {},
   "outputs": [
    {
     "data": {
      "text/plain": [
       "array([[0., 0., 0., 0., 0., 0.],\n",
       "       [0., 0., 0., 0., 0., 0.],\n",
       "       [0., 0., 0., 0., 0., 0.],\n",
       "       [0., 0., 0., 0., 0., 0.],\n",
       "       [0., 0., 0., 0., 0., 0.],\n",
       "       [0., 0., 0., 0., 0., 0.]])"
      ]
     },
     "execution_count": 7,
     "metadata": {},
     "output_type": "execute_result"
    }
   ],
   "source": [
    "K = numpy.zeros(shape=(6,6))\n",
    "K"
   ]
  },
  {
   "cell_type": "code",
   "execution_count": 8,
   "metadata": {},
   "outputs": [
    {
     "data": {
      "text/plain": [
       "array([[ 1050000., -1050000.,        0.,        0.,        0.,        0.],\n",
       "       [-1050000.,  2800000., -1750000.,        0.,        0.,        0.],\n",
       "       [       0., -1750000.,  4200000., -2450000.,        0.,        0.],\n",
       "       [       0.,        0., -2450000.,  5600000., -3150000.,        0.],\n",
       "       [       0.,        0.,        0., -3150000.,  7000000., -3850000.],\n",
       "       [       0.,        0.,        0.,        0., -3850000.,  3850000.]])"
      ]
     },
     "execution_count": 8,
     "metadata": {},
     "output_type": "execute_result"
    }
   ],
   "source": [
    "for i in range (n-1):\n",
    "    K[i][i] = K[i][i] + k[i][0][0]\n",
    "    K[i][i+1] = K[i][i+1] + k[i][0][1]\n",
    "    K[i+1][i] = K[i+1][i] + k[i][1][0]\n",
    "    K[i+1][i+1] = K[i+1][i+1] + k[i][1][1]\n",
    "K"
   ]
  },
  {
   "cell_type": "code",
   "execution_count": 9,
   "metadata": {},
   "outputs": [
    {
     "data": {
      "text/plain": [
       "matrix([[2.50917337e-06, 1.55679241e-06, 9.85363843e-07, 5.77200577e-07,\n",
       "         2.59740260e-07],\n",
       "        [1.55679241e-06, 1.55679241e-06, 9.85363843e-07, 5.77200577e-07,\n",
       "         2.59740260e-07],\n",
       "        [9.85363843e-07, 9.85363843e-07, 9.85363843e-07, 5.77200577e-07,\n",
       "         2.59740260e-07],\n",
       "        [5.77200577e-07, 5.77200577e-07, 5.77200577e-07, 5.77200577e-07,\n",
       "         2.59740260e-07],\n",
       "        [2.59740260e-07, 2.59740260e-07, 2.59740260e-07, 2.59740260e-07,\n",
       "         2.59740260e-07]])"
      ]
     },
     "execution_count": 9,
     "metadata": {},
     "output_type": "execute_result"
    }
   ],
   "source": [
    "#Gauss elimination and inverse\n",
    "Kelim = K[0:5,0:5]\n",
    "Kinv = numpy.linalg.inv(numpy.matrix(Kelim))\n",
    "Kinv"
   ]
  },
  {
   "cell_type": "code",
   "execution_count": 10,
   "metadata": {},
   "outputs": [
    {
     "data": {
      "text/plain": [
       "matrix([[-0.04516512],\n",
       "        [-0.02802226],\n",
       "        [-0.01773655],\n",
       "        [-0.01038961],\n",
       "        [-0.00467532]])"
      ]
     },
     "execution_count": 10,
     "metadata": {},
     "output_type": "execute_result"
    }
   ],
   "source": [
    "#solving for nodal displacements in mm\n",
    "F = numpy.matrix([[-18000],[0],[0],[0],[0]])\n",
    "U = Kinv * F\n",
    "U"
   ]
  },
  {
   "cell_type": "code",
   "execution_count": 21,
   "metadata": {},
   "outputs": [],
   "source": [
    "U = numpy.append(U,[[0]],axis=0)"
   ]
  },
  {
   "cell_type": "code",
   "execution_count": 22,
   "metadata": {},
   "outputs": [
    {
     "data": {
      "text/plain": [
       "matrix([[-1.80000000e+04],\n",
       "        [ 3.63797881e-12],\n",
       "        [ 0.00000000e+00],\n",
       "        [ 3.63797881e-12],\n",
       "        [ 0.00000000e+00],\n",
       "        [ 1.80000000e+04]])"
      ]
     },
     "execution_count": 22,
     "metadata": {},
     "output_type": "execute_result"
    }
   ],
   "source": [
    "F = K*U\n",
    "F"
   ]
  },
  {
   "cell_type": "code",
   "execution_count": 31,
   "metadata": {},
   "outputs": [
    {
     "data": {
      "text/plain": [
       "[2000.0, 4000.0, 6000.0, 8000.0, 10000.0, 12000.0]"
      ]
     },
     "execution_count": 31,
     "metadata": {},
     "output_type": "execute_result"
    }
   ],
   "source": [
    "nx = numpy.linspace(0,L,n)\n",
    "A = [Afunc(ix) for ix in nx]\n",
    "A"
   ]
  },
  {
   "cell_type": "code",
   "execution_count": 32,
   "metadata": {},
   "outputs": [
    {
     "data": {
      "text/plain": [
       "[matrix([[-9.]]),\n",
       " matrix([[9.09494702e-16]]),\n",
       " matrix([[0.]]),\n",
       " matrix([[4.54747351e-16]]),\n",
       " matrix([[0.]]),\n",
       " matrix([[1.5]])]"
      ]
     },
     "execution_count": 32,
     "metadata": {},
     "output_type": "execute_result"
    }
   ],
   "source": [
    "S =[]\n",
    "for i in range(n):\n",
    "    S.append(F[[i]]/A[i])\n",
    "S"
   ]
  },
  {
   "cell_type": "code",
   "execution_count": null,
   "metadata": {},
   "outputs": [],
   "source": []
  }
 ],
 "metadata": {
  "kernelspec": {
   "display_name": "Python 3",
   "language": "python",
   "name": "python3"
  },
  "language_info": {
   "codemirror_mode": {
    "name": "ipython",
    "version": 3
   },
   "file_extension": ".py",
   "mimetype": "text/x-python",
   "name": "python",
   "nbconvert_exporter": "python",
   "pygments_lexer": "ipython3",
   "version": "3.7.4"
  }
 },
 "nbformat": 4,
 "nbformat_minor": 2
}
