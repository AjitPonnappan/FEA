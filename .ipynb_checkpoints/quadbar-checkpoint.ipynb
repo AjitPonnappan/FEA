{
 "cells": [
  {
   "cell_type": "code",
   "execution_count": 22,
   "metadata": {},
   "outputs": [],
   "source": [
    "import sympy\n",
    "import numpy\n",
    "from matplotlib import pyplot"
   ]
  },
  {
   "cell_type": "code",
   "execution_count": 23,
   "metadata": {},
   "outputs": [],
   "source": [
    "#problem parameters\n",
    "E = 210e3\n",
    "L = 4000        #length in mm\n",
    "n = 5           #no. of nodes\n",
    "dl = L/(n-1)    #element length\n",
    "A = 3000        #Area of bar"
   ]
  },
  {
   "cell_type": "code",
   "execution_count": 52,
   "metadata": {},
   "outputs": [],
   "source": [
    "def elemstiff(E,A,L):    \n",
    "#     Bmat = numpy.matrix([[7,1,-8],[1,7,-8],[-8,-8,16]])\n",
    "#     k = E*A/(3*L) * Bmat\n",
    "#     return k\n",
    "    Bmat = [[7,1,-8],[1,7,-8],[-8,-8,16]]\n",
    "    k = []\n",
    "    for i in range(len(Bmat)):\n",
    "        B = Bmat[i]\n",
    "        k_sub = []\n",
    "        for j in range(len(B)):\n",
    "            k_sub.append(Bmat[i][j] * E*A/(3*L))\n",
    "        k.append(k_sub)\n",
    "    return k"
   ]
  },
  {
   "cell_type": "code",
   "execution_count": 53,
   "metadata": {},
   "outputs": [
    {
     "data": {
      "text/plain": [
       "[[[735000.0, 105000.0, -840000.0],\n",
       "  [105000.0, 735000.0, -840000.0],\n",
       "  [-840000.0, -840000.0, 1680000.0]],\n",
       " [[735000.0, 105000.0, -840000.0],\n",
       "  [105000.0, 735000.0, -840000.0],\n",
       "  [-840000.0, -840000.0, 1680000.0]]]"
      ]
     },
     "execution_count": 53,
     "metadata": {},
     "output_type": "execute_result"
    }
   ],
   "source": [
    "k = []\n",
    "num = int((n-1)/2)\n",
    "for i in range(num):\n",
    "    k.append(elemstiff(E,A,2*dl))       #List of element stiffness matrices \n",
    "k"
   ]
  },
  {
   "cell_type": "code",
   "execution_count": 54,
   "metadata": {},
   "outputs": [
    {
     "data": {
      "text/plain": [
       "array([[ 735000.,  105000., -840000.,       0.,       0.],\n",
       "       [ 105000.,  735000., -840000.,       0.,       0.],\n",
       "       [-840000., -840000., 2415000.,  105000., -840000.],\n",
       "       [      0.,       0.,  105000.,  735000., -840000.],\n",
       "       [      0.,       0., -840000., -840000., 1680000.]])"
      ]
     },
     "execution_count": 54,
     "metadata": {},
     "output_type": "execute_result"
    }
   ],
   "source": [
    "K = numpy.zeros(shape=(n,n))\n",
    "x = 0\n",
    "for X in range (0,n-1,2):             #X is to get the location in the global matrix to add the element matrix\n",
    "    c = 0\n",
    "    for C in range (X,X+3):\n",
    "        r = 0\n",
    "        for R in range (X,X+3):\n",
    "            K[C][R] = K[C][R] + k[x][r][c]\n",
    "            r = r + 1\n",
    "        c = c + 1\n",
    "    x = x + 1\n",
    "K"
   ]
  },
  {
   "cell_type": "code",
   "execution_count": null,
   "metadata": {},
   "outputs": [],
   "source": []
  }
 ],
 "metadata": {
  "kernelspec": {
   "display_name": "Python 3",
   "language": "python",
   "name": "python3"
  },
  "language_info": {
   "codemirror_mode": {
    "name": "ipython",
    "version": 3
   },
   "file_extension": ".py",
   "mimetype": "text/x-python",
   "name": "python",
   "nbconvert_exporter": "python",
   "pygments_lexer": "ipython3",
   "version": "3.7.4"
  }
 },
 "nbformat": 4,
 "nbformat_minor": 2
}
