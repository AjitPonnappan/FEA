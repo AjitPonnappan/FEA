{
 "cells": [
  {
   "cell_type": "code",
   "execution_count": 2,
   "metadata": {},
   "outputs": [],
   "source": [
    "import numpy\n",
    "from matplotlib import pyplot"
   ]
  },
  {
   "cell_type": "code",
   "execution_count": 3,
   "metadata": {},
   "outputs": [],
   "source": [
    "#problem parameters in N and mm\n",
    "E = 210e6\n",
    "P = 20e3\n",
    "#L = 2e3\n",
    "I = 60e-6\n",
    "n = 3\n",
    "dl = 2"
   ]
  },
  {
   "cell_type": "code",
   "execution_count": 4,
   "metadata": {},
   "outputs": [],
   "source": [
    "def elemstiff(E,I,L):    \n",
    "#     Bmat = numpy.matrix([[7,1,-8],[1,7,-8],[-8,-8,16]])\n",
    "#     k = E*A/(3*L) * Bmat\n",
    "#     return k\n",
    "    Bmat = [[12,6*L,-12,6*L],[6*L,4*L*L,-6*L,2*L*L],[-12,-6*L,12,-6*L],[6*L,2*L*L,-6*L,4*L*L]]\n",
    "    k = []\n",
    "    for i in range(len(Bmat)):\n",
    "        B = Bmat[i]\n",
    "        k_sub = []\n",
    "        for j in range(len(B)):\n",
    "            k_sub.append(Bmat[i][j] * E*I/L**3)\n",
    "        k.append(k_sub)\n",
    "    return k"
   ]
  },
  {
   "cell_type": "code",
   "execution_count": 5,
   "metadata": {},
   "outputs": [
    {
     "data": {
      "text/plain": [
       "[[[18900.0, 18900.0, -18900.0, 18900.0],\n",
       "  [18900.0, 25200.0, -18900.0, 12600.0],\n",
       "  [-18900.0, -18900.0, 18900.0, -18900.0],\n",
       "  [18900.0, 12600.0, -18900.0, 25200.0]],\n",
       " [[18900.0, 18900.0, -18900.0, 18900.0],\n",
       "  [18900.0, 25200.0, -18900.0, 12600.0],\n",
       "  [-18900.0, -18900.0, 18900.0, -18900.0],\n",
       "  [18900.0, 12600.0, -18900.0, 25200.0]]]"
      ]
     },
     "execution_count": 5,
     "metadata": {},
     "output_type": "execute_result"
    }
   ],
   "source": [
    "k = []\n",
    "for i in range(n-1):\n",
    "    k.append(elemstiff(E,I,dl))\n",
    "k"
   ]
  },
  {
   "cell_type": "code",
   "execution_count": 6,
   "metadata": {},
   "outputs": [
    {
     "data": {
      "text/plain": [
       "array([[ 18900.,  18900., -18900.,  18900.,      0.,      0.],\n",
       "       [ 18900.,  25200., -18900.,  12600.,      0.,      0.],\n",
       "       [-18900., -18900.,  37800.,      0., -18900.,  18900.],\n",
       "       [ 18900.,  12600.,      0.,  50400., -18900.,  12600.],\n",
       "       [     0.,      0., -18900., -18900.,  18900., -18900.],\n",
       "       [     0.,      0.,  18900.,  12600., -18900.,  25200.]])"
      ]
     },
     "execution_count": 6,
     "metadata": {},
     "output_type": "execute_result"
    }
   ],
   "source": [
    "K = numpy.zeros(shape=(2*n,2*n))    #multiplied by 2 because 2 degrees of freedom per node\n",
    "x = 0\n",
    "for X in range (0,n,2):           #X is to get the location in the global matrix to add the element matrix\n",
    "    c = 0\n",
    "    for C in range (X,X+4):\n",
    "        r = 0\n",
    "        for R in range (X,X+4):\n",
    "            K[C][R] = K[C][R] + k[x][r][c]\n",
    "            r = r + 1\n",
    "        c = c + 1\n",
    "    x = x + 1\n",
    "K"
   ]
  },
  {
   "cell_type": "code",
   "execution_count": 7,
   "metadata": {},
   "outputs": [
    {
     "data": {
      "text/plain": [
       "[[0], [0], [0], [-20000.0], [0], [0]]"
      ]
     },
     "execution_count": 7,
     "metadata": {},
     "output_type": "execute_result"
    }
   ],
   "source": [
    "F = [[0],[0],[0],[-P],[0],[0]]\n",
    "F"
   ]
  },
  {
   "cell_type": "code",
   "execution_count": 13,
   "metadata": {},
   "outputs": [
    {
     "ename": "AttributeError",
     "evalue": "'numpy.ndarray' object has no attribute 'append'",
     "output_type": "error",
     "traceback": [
      "\u001b[1;31m---------------------------------------------------------------------------\u001b[0m",
      "\u001b[1;31mAttributeError\u001b[0m                            Traceback (most recent call last)",
      "\u001b[1;32m<ipython-input-13-d921dd85afb2>\u001b[0m in \u001b[0;36m<module>\u001b[1;34m\u001b[0m\n\u001b[0;32m      2\u001b[0m \u001b[1;31m#Displacement for rows 1,2 and 5 should be eliminated\u001b[0m\u001b[1;33m\u001b[0m\u001b[1;33m\u001b[0m\u001b[1;33m\u001b[0m\u001b[0m\n\u001b[0;32m      3\u001b[0m \u001b[0mKelim\u001b[0m \u001b[1;33m=\u001b[0m \u001b[0mK\u001b[0m\u001b[1;33m[\u001b[0m\u001b[1;36m2\u001b[0m\u001b[1;33m:\u001b[0m\u001b[1;36m4\u001b[0m\u001b[1;33m]\u001b[0m\u001b[1;33m\u001b[0m\u001b[1;33m\u001b[0m\u001b[0m\n\u001b[1;32m----> 4\u001b[1;33m \u001b[0mKelim\u001b[0m\u001b[1;33m.\u001b[0m\u001b[0mappend\u001b[0m\u001b[1;33m(\u001b[0m\u001b[0mK\u001b[0m\u001b[1;33m[\u001b[0m\u001b[1;36m5\u001b[0m\u001b[1;33m]\u001b[0m\u001b[1;33m)\u001b[0m\u001b[1;33m\u001b[0m\u001b[1;33m\u001b[0m\u001b[0m\n\u001b[0m\u001b[0;32m      5\u001b[0m \u001b[0mKelim\u001b[0m\u001b[1;33m\u001b[0m\u001b[1;33m\u001b[0m\u001b[0m\n",
      "\u001b[1;31mAttributeError\u001b[0m: 'numpy.ndarray' object has no attribute 'append'"
     ]
    }
   ],
   "source": [
    "#elimination\n",
    "#Displacement for rows 1,2 and 5 should be eliminated\n",
    "Kelim = K[2:4]\n",
    "Kelim.append(K[5])\n",
    "Kelim"
   ]
  },
  {
   "cell_type": "code",
   "execution_count": null,
   "metadata": {},
   "outputs": [],
   "source": []
  }
 ],
 "metadata": {
  "kernelspec": {
   "display_name": "Python 3",
   "language": "python",
   "name": "python3"
  },
  "language_info": {
   "codemirror_mode": {
    "name": "ipython",
    "version": 3
   },
   "file_extension": ".py",
   "mimetype": "text/x-python",
   "name": "python",
   "nbconvert_exporter": "python",
   "pygments_lexer": "ipython3",
   "version": "3.7.4"
  }
 },
 "nbformat": 4,
 "nbformat_minor": 2
}
